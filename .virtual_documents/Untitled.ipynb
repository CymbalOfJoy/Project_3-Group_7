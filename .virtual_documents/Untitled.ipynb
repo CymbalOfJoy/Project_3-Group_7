import sqlite3
import pandas as pd

# Step 1: Read the CSV into a pandas DataFrame
csv_file_path = "Tourist_Travel_With_Coordinates"  # Replace with the path to your CSV file
df = pd.read_csv(csv_file_path)

# Step 2: Connect to SQLite Database (it will create the database if it doesn't exist)
conn = sqlite3.connect("example.db")  # Creates or opens example.db
cursor = conn.cursor()

# Step 3: Convert the DataFrame to an SQLite table
# The name of the table will be "your_table", and the column names will match those in the DataFrame
df.to_sql("your_table", conn, if_exists="replace", index=False)

# Step 4: Query to check if data was inserted
cursor.execute("SELECT * FROM your_table LIMIT 5;")  # Select the first 5 rows
print(cursor.fetchall())

# Step 5: Close the connection
conn.commit()
conn.close()
